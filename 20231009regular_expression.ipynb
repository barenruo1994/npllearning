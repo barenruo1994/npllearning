{
 "cells": [
  {
   "cell_type": "code",
   "execution_count": 1,
   "id": "f1863da6",
   "metadata": {},
   "outputs": [],
   "source": [
    "import re"
   ]
  },
  {
   "cell_type": "code",
   "execution_count": 9,
   "id": "9d029d23",
   "metadata": {},
   "outputs": [],
   "source": [
    "chat1 = \"okay, phone: 1234567890\"\n",
    "chat2 = \"okay, phone: (123)-456-7890\""
   ]
  },
  {
   "cell_type": "code",
   "execution_count": 38,
   "id": "da888137",
   "metadata": {},
   "outputs": [],
   "source": [
    "pattern1 = '\\d{10}'\n",
    "pattern2 = '\\(\\d{3}\\)\\W\\d{3}\\W\\d{4}'"
   ]
  },
  {
   "cell_type": "code",
   "execution_count": 14,
   "id": "31f04227",
   "metadata": {},
   "outputs": [
    {
     "data": {
      "text/plain": [
       "['1234567890']"
      ]
     },
     "execution_count": 14,
     "metadata": {},
     "output_type": "execute_result"
    }
   ],
   "source": [
    "match1 = re.findall(pattern1,chat1)\n",
    "match1"
   ]
  },
  {
   "cell_type": "code",
   "execution_count": 39,
   "id": "4a2ba244",
   "metadata": {},
   "outputs": [
    {
     "data": {
      "text/plain": [
       "['(123)-456-7890']"
      ]
     },
     "execution_count": 39,
     "metadata": {},
     "output_type": "execute_result"
    }
   ],
   "source": [
    "match2 = re.findall(pattern2,chat2)\n",
    "match2"
   ]
  },
  {
   "cell_type": "code",
   "execution_count": 40,
   "id": "dd29302b",
   "metadata": {},
   "outputs": [],
   "source": [
    "pattern1_2 = pattern1 + '|' + pattern2\n",
    "chat1_2 = chat1 + \"|\" + chat2"
   ]
  },
  {
   "cell_type": "code",
   "execution_count": 41,
   "id": "b6b22c3e",
   "metadata": {},
   "outputs": [
    {
     "data": {
      "text/plain": [
       "['1234567890', '(123)-456-7890']"
      ]
     },
     "execution_count": 41,
     "metadata": {},
     "output_type": "execute_result"
    }
   ],
   "source": [
    "match = re.findall(pattern1_2,chat1_2)\n",
    "match"
   ]
  },
  {
   "cell_type": "code",
   "execution_count": null,
   "id": "3007b1cc",
   "metadata": {},
   "outputs": [],
   "source": []
  }
 ],
 "metadata": {
  "kernelspec": {
   "display_name": "Python 3 (ipykernel)",
   "language": "python",
   "name": "python3"
  },
  "language_info": {
   "codemirror_mode": {
    "name": "ipython",
    "version": 3
   },
   "file_extension": ".py",
   "mimetype": "text/x-python",
   "name": "python",
   "nbconvert_exporter": "python",
   "pygments_lexer": "ipython3",
   "version": "3.11.4"
  }
 },
 "nbformat": 4,
 "nbformat_minor": 5
}
